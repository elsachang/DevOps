{
  "nbformat": 4,
  "nbformat_minor": 0,
  "metadata": {
    "colab": {
      "name": "Python for DevOps",
      "provenance": [],
      "authorship_tag": "ABX9TyOj1KIrjh+sk2v8dsIn2jXi",
      "include_colab_link": true
    },
    "kernelspec": {
      "name": "python3",
      "display_name": "Python 3"
    },
    "language_info": {
      "name": "python"
    },
    "accelerator": "GPU"
  },
  "cells": [
    {
      "cell_type": "markdown",
      "metadata": {
        "id": "view-in-github",
        "colab_type": "text"
      },
      "source": [
        "<a href=\"https://colab.research.google.com/github/elsachang/DevOps/blob/main/Python_for_DevOps.ipynb\" target=\"_parent\"><img src=\"https://colab.research.google.com/assets/colab-badge.svg\" alt=\"Open In Colab\"/></a>"
      ]
    },
    {
      "cell_type": "code",
      "metadata": {
        "colab": {
          "base_uri": "https://localhost:8080/"
        },
        "id": "rQJT-608X1A6",
        "outputId": "85dafc0a-dac8-4d20-aa35-f65cdfe97a83"
      },
      "source": [
        "!ls -l"
      ],
      "execution_count": 2,
      "outputs": [
        {
          "output_type": "stream",
          "text": [
            "total 4\n",
            "drwxr-xr-x 1 root root 4096 May  6 13:44 sample_data\n"
          ],
          "name": "stdout"
        }
      ]
    },
    {
      "cell_type": "code",
      "metadata": {
        "colab": {
          "base_uri": "https://localhost:8080/"
        },
        "id": "XHYoxVbgYEoH",
        "outputId": "83fe9527-3672-496e-bf1b-b8ef70cc1135"
      },
      "source": [
        "var = !ls -1\n",
        "type(var)"
      ],
      "execution_count": 7,
      "outputs": [
        {
          "output_type": "execute_result",
          "data": {
            "text/plain": [
              "IPython.utils.text.SList"
            ]
          },
          "metadata": {
            "tags": []
          },
          "execution_count": 7
        }
      ]
    },
    {
      "cell_type": "code",
      "metadata": {
        "colab": {
          "base_uri": "https://localhost:8080/"
        },
        "id": "pkzDGWJvYS2X",
        "outputId": "08d7469f-74f4-40ec-a5a4-f94767e8c14d"
      },
      "source": [
        "var.fields?\n"
      ],
      "execution_count": 1,
      "outputs": [
        {
          "output_type": "stream",
          "text": [
            "Object `var.fields` not found.\n"
          ],
          "name": "stdout"
        }
      ]
    },
    {
      "cell_type": "code",
      "metadata": {
        "id": "05dWLzPhkAhI"
      },
      "source": [
        ""
      ],
      "execution_count": null,
      "outputs": []
    },
    {
      "cell_type": "markdown",
      "metadata": {
        "id": "4opcov0bkFVY"
      },
      "source": [
        "Magic Commands"
      ]
    },
    {
      "cell_type": "code",
      "metadata": {
        "colab": {
          "base_uri": "https://localhost:8080/"
        },
        "id": "RCI046iBkJgm",
        "outputId": "3731ead7-1b1a-4e10-8a48-c244f81ad591"
      },
      "source": [
        "too_many_decimals = 1.912345897\n",
        "print (\"built in Python Round\")\n",
        "%timeit round(too_many_decimals, 2)"
      ],
      "execution_count": 2,
      "outputs": [
        {
          "output_type": "stream",
          "text": [
            "built in Python Round\n",
            "The slowest run took 21.32 times longer than the fastest. This could mean that an intermediate result is being cached.\n",
            "1000000 loops, best of 5: 457 ns per loop\n"
          ],
          "name": "stdout"
        }
      ]
    },
    {
      "cell_type": "markdown",
      "metadata": {
        "id": "3_qkWr7rkiqh"
      },
      "source": [
        "%alias"
      ]
    },
    {
      "cell_type": "code",
      "metadata": {
        "id": "RS2tkYExkl2k"
      },
      "source": [
        "alias lscsv ls -l sample_data/*.csv"
      ],
      "execution_count": 4,
      "outputs": []
    },
    {
      "cell_type": "code",
      "metadata": {
        "colab": {
          "base_uri": "https://localhost:8080/"
        },
        "id": "AHf898q3kwD4",
        "outputId": "aee0e4fb-0082-49ed-8d63-312a1227f1cd"
      },
      "source": [
        "lscsv"
      ],
      "execution_count": 5,
      "outputs": [
        {
          "output_type": "stream",
          "text": [
            "-rw-r--r-- 1 root root   301141 May  6 13:44 sample_data/california_housing_test.csv\n",
            "-rw-r--r-- 1 root root  1706430 May  6 13:44 sample_data/california_housing_train.csv\n",
            "-rw-r--r-- 1 root root 18289443 May  6 13:44 sample_data/mnist_test.csv\n",
            "-rw-r--r-- 1 root root 36523880 May  6 13:44 sample_data/mnist_train_small.csv\n"
          ],
          "name": "stdout"
        }
      ]
    },
    {
      "cell_type": "code",
      "metadata": {
        "id": "nDVC65W5kyI4"
      },
      "source": [
        ""
      ],
      "execution_count": null,
      "outputs": []
    },
    {
      "cell_type": "markdown",
      "metadata": {
        "id": "RHzl05Adk5Di"
      },
      "source": [
        "%who"
      ]
    },
    {
      "cell_type": "code",
      "metadata": {
        "id": "lJip-DSkk8ci"
      },
      "source": [
        "var1=1"
      ],
      "execution_count": 8,
      "outputs": []
    },
    {
      "cell_type": "code",
      "metadata": {
        "colab": {
          "base_uri": "https://localhost:8080/"
        },
        "id": "X-Cl1r38lHG3",
        "outputId": "e2ec672e-bd9f-403e-ab25-8cb28917699c"
      },
      "source": [
        "who"
      ],
      "execution_count": 9,
      "outputs": [
        {
          "output_type": "stream",
          "text": [
            "too_many_decimals\t var1\t \n"
          ],
          "name": "stdout"
        }
      ]
    },
    {
      "cell_type": "code",
      "metadata": {
        "id": "U7xU4OGllIfG"
      },
      "source": [
        ""
      ],
      "execution_count": null,
      "outputs": []
    }
  ]
}